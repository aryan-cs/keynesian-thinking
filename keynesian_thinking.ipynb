{
  "nbformat": 4,
  "nbformat_minor": 0,
  "metadata": {
    "colab": {
      "provenance": [],
      "authorship_tag": "ABX9TyPAstxyEyGyBMJZLon0+pyn",
      "include_colab_link": true
    },
    "kernelspec": {
      "name": "python3",
      "display_name": "Python 3"
    },
    "language_info": {
      "name": "python"
    }
  },
  "cells": [
    {
      "cell_type": "markdown",
      "metadata": {
        "id": "view-in-github",
        "colab_type": "text"
      },
      "source": [
        "<a href=\"https://colab.research.google.com/github/aryan-cs/keynesian-thinking/blob/master/keynesian_thinking.ipynb\" target=\"_parent\"><img src=\"https://colab.research.google.com/assets/colab-badge.svg\" alt=\"Open In Colab\"/></a>"
      ]
    },
    {
      "cell_type": "markdown",
      "source": [
        "# Background"
      ],
      "metadata": {
        "id": "CRKUAaOur_2K"
      }
    },
    {
      "cell_type": "markdown",
      "source": [
        "Keynesian thinking is a systematic ordering of thought processes in which lower order thought processes are considered \"simple minded\" and higher order thought processes are \"more complex,\" as they take into account the actions of lower order thought process individuals."
      ],
      "metadata": {
        "id": "6vtEZWl7sC5Y"
      }
    },
    {
      "cell_type": "markdown",
      "source": [
        "# The 2/3 of the Average Game\n"
      ],
      "metadata": {
        "id": "ymYuXCJLskNj"
      }
    },
    {
      "cell_type": "markdown",
      "source": [
        "This game is an example of a Keynesian thought problem. In a group of people, each person is tasked to guess a number between 0 and 100, and the person who comes as close to 2/3 of the average guess is the winner. For example, if everyone guesses 100, 2/3 of the average would be 66."
      ],
      "metadata": {
        "id": "qnEVpgx7tKS0"
      }
    },
    {
      "cell_type": "code",
      "source": [
        "# This will come in handy later. It'll help us quantify the effectiveness of nth-order thought processes.\n",
        "def calculate_error(estimated, actual):\n",
        "  if actual == 0:\n",
        "    return 0\n",
        "  return (100 * (estimated - actual) / actual)"
      ],
      "metadata": {
        "id": "8WjnuGZV0wO0"
      },
      "execution_count": 100,
      "outputs": []
    },
    {
      "cell_type": "markdown",
      "source": [
        "### 0th-Order Thinking"
      ],
      "metadata": {
        "id": "dzIv_CuYvz8O"
      }
    },
    {
      "cell_type": "markdown",
      "source": [
        "A 0th-order player would randomly guess a number between 0 and 100.\n",
        "\n",
        "Here's what a game would look like with 100 0th-order players."
      ],
      "metadata": {
        "id": "3ipU_T5jtmfz"
      }
    },
    {
      "cell_type": "code",
      "source": [
        "import secrets\n",
        "\n",
        "number_of_players = 100\n",
        "\n",
        "guesses = [secrets.randbelow(101) for guess in range(number_of_players)]\n",
        "\n",
        "correct = 2/3 * sum(guesses) / number_of_players\n",
        "\n",
        "print(\"All Guesses: \" + str(sorted(guesses)))\n",
        "print(f\"Average Guess: {sum(guesses) / number_of_players:.2f}\")\n",
        "print(f\"2/3 of the Average: {correct:.2f}\")"
      ],
      "metadata": {
        "colab": {
          "base_uri": "https://localhost:8080/"
        },
        "id": "HWSfSao4t3lw",
        "outputId": "305fe67c-0eba-4664-d7f4-08b207d11f4a"
      },
      "execution_count": 84,
      "outputs": [
        {
          "output_type": "stream",
          "name": "stdout",
          "text": [
            "All Guesses: [0, 1, 2, 2, 4, 4, 4, 5, 6, 7, 8, 8, 9, 9, 10, 13, 14, 14, 14, 15, 17, 18, 24, 25, 25, 25, 27, 27, 28, 28, 28, 29, 30, 30, 30, 31, 33, 40, 40, 42, 42, 42, 43, 45, 45, 45, 53, 54, 54, 55, 56, 57, 57, 58, 60, 60, 62, 63, 63, 64, 65, 65, 66, 67, 68, 68, 68, 68, 70, 72, 72, 73, 74, 77, 79, 81, 81, 82, 82, 82, 83, 83, 84, 84, 85, 87, 87, 88, 88, 89, 90, 91, 92, 93, 94, 94, 96, 97, 98, 99]\n",
            "Average Guess: 50.66\n",
            "2/3 of the Average: 33.77\n"
          ]
        }
      ]
    },
    {
      "cell_type": "markdown",
      "source": [
        "### 1st-Order Thinking"
      ],
      "metadata": {
        "id": "OnegJf0Dtgts"
      }
    },
    {
      "cell_type": "markdown",
      "source": [
        "A 1st-order player would realize that the maximum value a correct answer could be is 66 (in the case everyone guesses 100) and limits his range to guess between 0 and 66."
      ],
      "metadata": {
        "id": "ctu9x1n4v5Up"
      }
    },
    {
      "cell_type": "code",
      "source": [
        "import secrets\n",
        "\n",
        "number_of_players = 100\n",
        "\n",
        "guesses = [secrets.randbelow(101) for guess in range(number_of_players)]\n",
        "\n",
        "first_order_player = secrets.randbelow(67)\n",
        "\n",
        "correct = 2/3 * sum(guesses) / number_of_players\n",
        "\n",
        "print(\"All Guesses: \" + str(sorted(guesses)))\n",
        "print(f\"Average Guess: {sum(guesses) / number_of_players:.2f}\")\n",
        "print(f\"2/3 of the Average: {correct:.2f}\")\n",
        "print(f\"First Order Player Guess: {first_order_player:.2f} ({calculate_error(first_order_player, correct):.2f}% error)\")"
      ],
      "metadata": {
        "colab": {
          "base_uri": "https://localhost:8080/"
        },
        "id": "NqanK0fRwLEb",
        "outputId": "e0ad66e6-111a-4b81-eee9-3bd9fd06932f"
      },
      "execution_count": 87,
      "outputs": [
        {
          "output_type": "stream",
          "name": "stdout",
          "text": [
            "All Guesses: [0, 1, 1, 2, 3, 3, 4, 5, 8, 8, 8, 9, 9, 9, 10, 15, 17, 17, 19, 19, 21, 21, 27, 27, 28, 29, 29, 30, 30, 30, 30, 31, 34, 35, 36, 37, 38, 39, 39, 40, 40, 40, 40, 41, 41, 42, 42, 43, 43, 44, 45, 46, 47, 48, 51, 52, 53, 55, 56, 57, 59, 59, 60, 62, 63, 63, 64, 64, 64, 66, 68, 69, 69, 73, 74, 75, 75, 76, 79, 80, 80, 81, 82, 82, 83, 83, 83, 84, 85, 86, 88, 88, 89, 92, 93, 93, 94, 95, 99, 100]\n",
            "Average Guess: 48.46\n",
            "2/3 of the Average: 32.31\n",
            "First Order Player Guess: 17.00 (-47.38% error)\n"
          ]
        }
      ]
    },
    {
      "cell_type": "markdown",
      "source": [
        "### 2nd-Order Thinking"
      ],
      "metadata": {
        "id": "vCryexF2wYm-"
      }
    },
    {
      "cell_type": "markdown",
      "source": [
        "A 2nd-order player could leverage psychology, realizing that the [most people pick the number 37](http://www.catb.org/jargon/html/R/random-numbers.html) when asked to choose an integer between 1 and 100. This would mean the 2nd-order player would pick an answer which is 37% of the range of guesses, or 37% of 66."
      ],
      "metadata": {
        "id": "ng35WfcuwcK5"
      }
    },
    {
      "cell_type": "code",
      "source": [
        "import secrets\n",
        "\n",
        "number_of_players = 100\n",
        "\n",
        "guesses = [secrets.randbelow(101) for guess in range(number_of_players)]\n",
        "\n",
        "first_order_player = secrets.randbelow(67)\n",
        "second_order_player = 0.37 * 66\n",
        "\n",
        "correct = 2/3 * sum(guesses) / number_of_players\n",
        "\n",
        "print(\"All Guesses: \" + str(sorted(guesses)))\n",
        "print(f\"Average Guess: {sum(guesses) / number_of_players:.2f}\")\n",
        "print(f\"2/3 of the Average: {correct:.2f}\")\n",
        "print(f\"First Order Player Guess: {first_order_player:.2f} ({calculate_error(first_order_player, correct):.2f}% error)\")\n",
        "print(f\"Second Order Player Guess: {second_order_player:.2f} ({calculate_error(second_order_player, correct):.2f}% error)\")"
      ],
      "metadata": {
        "colab": {
          "base_uri": "https://localhost:8080/"
        },
        "id": "lkeBYW_fw47E",
        "outputId": "ce3df220-a43a-4b82-ad71-2acc212655c0"
      },
      "execution_count": 89,
      "outputs": [
        {
          "output_type": "stream",
          "name": "stdout",
          "text": [
            "All Guesses: [0, 1, 2, 3, 4, 4, 4, 5, 5, 6, 7, 7, 7, 10, 13, 13, 15, 16, 19, 22, 22, 25, 25, 27, 28, 29, 29, 29, 31, 31, 31, 33, 34, 35, 36, 36, 38, 38, 39, 40, 41, 42, 43, 43, 45, 46, 47, 48, 49, 50, 51, 53, 53, 54, 54, 55, 56, 57, 57, 58, 58, 59, 60, 61, 62, 63, 64, 67, 70, 70, 71, 72, 74, 75, 76, 77, 77, 78, 79, 80, 80, 81, 83, 83, 83, 86, 86, 87, 88, 89, 90, 91, 92, 94, 95, 96, 96, 97, 97, 100]\n",
            "Average Guess: 49.88\n",
            "2/3 of the Average: 33.25\n",
            "First Order Player Guess: 47.00 (41.34% error)\n",
            "Second Order Player Guess: 24.42 (-26.56% error)\n"
          ]
        }
      ]
    },
    {
      "cell_type": "markdown",
      "source": [
        "### 3rd-Order Thinking"
      ],
      "metadata": {
        "id": "FBi_ghPWyWB2"
      }
    },
    {
      "cell_type": "markdown",
      "source": [
        "A 3rd-order player would take into account past trends, realizing that the correct answer of the past games has been ~32."
      ],
      "metadata": {
        "id": "fMrz620LyYa6"
      }
    },
    {
      "cell_type": "code",
      "source": [
        "import secrets\n",
        "\n",
        "number_of_players = 100\n",
        "\n",
        "guesses = [secrets.randbelow(101) for guess in range(number_of_players)]\n",
        "\n",
        "first_order_player = secrets.randbelow(67)\n",
        "second_order_player = 0.37 * 66\n",
        "third_order_player = 32\n",
        "\n",
        "correct = 2/3 * sum(guesses) / number_of_players\n",
        "\n",
        "print(\"All Guesses: \" + str(sorted(guesses)))\n",
        "print(f\"Average Guess: {sum(guesses) / number_of_players:.2f}\")\n",
        "print(f\"2/3 of the Average: {correct:.2f}\")\n",
        "print(f\"First Order Player Guess: {first_order_player:.2f} ({calculate_error(first_order_player, correct):.2f}% error)\")\n",
        "print(f\"Second Order Player Guess: {second_order_player:.2f} ({calculate_error(second_order_player, correct):.2f}% error)\")\n",
        "print(f\"Third Order Player Guess: {third_order_player:.2f} ({calculate_error(third_order_player, correct):.2f}% error)\")"
      ],
      "metadata": {
        "colab": {
          "base_uri": "https://localhost:8080/"
        },
        "id": "vVOM88sSzINN",
        "outputId": "ea800370-567f-40e2-9663-07c8ad530f5f"
      },
      "execution_count": 90,
      "outputs": [
        {
          "output_type": "stream",
          "name": "stdout",
          "text": [
            "All Guesses: [0, 1, 1, 3, 3, 3, 3, 5, 5, 5, 5, 5, 6, 8, 8, 8, 9, 10, 13, 14, 15, 15, 17, 18, 18, 20, 21, 23, 24, 24, 25, 26, 29, 31, 31, 32, 32, 33, 33, 38, 40, 41, 41, 42, 43, 45, 47, 47, 47, 49, 52, 52, 53, 54, 55, 56, 56, 56, 57, 59, 59, 61, 61, 64, 65, 67, 68, 69, 69, 69, 71, 71, 72, 74, 75, 76, 77, 78, 79, 79, 81, 81, 81, 82, 84, 84, 85, 88, 89, 91, 93, 95, 95, 96, 97, 97, 97, 98, 99, 100]\n",
            "Average Guess: 48.29\n",
            "2/3 of the Average: 32.19\n",
            "First Order Player Guess: 7.00 (-78.26% error)\n",
            "Second Order Player Guess: 24.42 (-24.15% error)\n",
            "Third Order Player Guess: 32.00 (-0.60% error)\n"
          ]
        }
      ]
    },
    {
      "cell_type": "markdown",
      "source": [
        "### 4th-Order Thinking"
      ],
      "metadata": {
        "id": "2fI-OJdAzUSB"
      }
    },
    {
      "cell_type": "markdown",
      "source": [
        "A 4th-order player would leverage an understanding of Game Theory, realizing that this problem has a Nash Equilibrium. If all players, or even most players, select 0, then they are all correct (66% of 0 is 0)."
      ],
      "metadata": {
        "id": "DaeSffY8zYIZ"
      }
    },
    {
      "cell_type": "code",
      "source": [
        "import secrets\n",
        "\n",
        "number_of_players = 100\n",
        "\n",
        "guesses = [0 for guess in range(number_of_players)]\n",
        "\n",
        "first_order_player = secrets.randbelow(67)\n",
        "second_order_player = 0.37 * 66\n",
        "third_order_player = 32\n",
        "fourth_order_player = 0\n",
        "\n",
        "correct = 0\n",
        "\n",
        "print(\"All Guesses are 0\")\n",
        "print(f\"Average Guess: {sum(guesses) / number_of_players:.2f}\")\n",
        "print(f\"2/3 of the Average: {correct:.2f}\")\n",
        "print(f\"Fourth Order Player Guess: {fourth_order_player:.2f} ({calculate_error(fourth_order_player, correct):.2f}% error)\")\n",
        "print(\"Everybody wins!\")"
      ],
      "metadata": {
        "colab": {
          "base_uri": "https://localhost:8080/"
        },
        "id": "GYajA40MzrT7",
        "outputId": "882d69da-2714-49c2-82bc-4561fc14e731"
      },
      "execution_count": 103,
      "outputs": [
        {
          "output_type": "stream",
          "name": "stdout",
          "text": [
            "All Guesses are 0\n",
            "Average Guess: 0.00\n",
            "2/3 of the Average: 0.00\n",
            "Fourth Order Player Guess: 0.00 (0.00% error)\n",
            "Everybody wins!\n"
          ]
        }
      ]
    }
  ]
}